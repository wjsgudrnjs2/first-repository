{
  "nbformat": 4,
  "nbformat_minor": 0,
  "metadata": {
    "colab": {
      "provenance": [],
      "authorship_tag": "ABX9TyN02xdU04SvifQxBeImaAud",
      "include_colab_link": true
    },
    "kernelspec": {
      "name": "python3",
      "display_name": "Python 3"
    },
    "language_info": {
      "name": "python"
    }
  },
  "cells": [
    {
      "cell_type": "markdown",
      "metadata": {
        "id": "view-in-github",
        "colab_type": "text"
      },
      "source": [
        "<a href=\"https://colab.research.google.com/github/wjsgudrnjs2/first-repository/blob/main/Untitled0.ipynb\" target=\"_parent\"><img src=\"https://colab.research.google.com/assets/colab-badge.svg\" alt=\"Open In Colab\"/></a>"
      ]
    },
    {
      "cell_type": "code",
      "execution_count": 2,
      "metadata": {
        "colab": {
          "base_uri": "https://localhost:8080/"
        },
        "id": "QT7Kuj5YR3fz",
        "outputId": "03a8e0d1-ff9c-42e5-c4f8-cf65d9d699de"
      },
      "outputs": [
        {
          "output_type": "stream",
          "name": "stdout",
          "text": [
            "GNU bash, version 5.1.16(1)-release (x86_64-pc-linux-gnu)\n",
            "These shell commands are defined internally.  Type `help' to see this list.\n",
            "Type `help name' to find out more about the function `name'.\n",
            "Use `info bash' to find out more about the shell in general.\n",
            "Use `man -k' or `info' to find out more about commands not in this list.\n",
            "\n",
            "A star (*) next to a name means that the command is disabled.\n",
            "\n",
            " job_spec [&]                                      history [-c] [-d offset] [n] or history -anrw >\n",
            " (( expression ))                                  if COMMANDS; then COMMANDS; [ elif COMMANDS; t>\n",
            " . filename [arguments]                            jobs [-lnprs] [jobspec ...] or jobs -x command>\n",
            " :                                                 kill [-s sigspec | -n signum | -sigspec] pid |>\n",
            " [ arg... ]                                        let arg [arg ...]\n",
            " [[ expression ]]                                  local [option] name[=value] ...\n",
            " alias [-p] [name[=value] ... ]                    logout [n]\n",
            " bg [job_spec ...]                                 mapfile [-d delim] [-n count] [-O origin] [-s >\n",
            " bind [-lpsvPSVX] [-m keymap] [-f filename] [-q >  popd [-n] [+N | -N]\n",
            " break [n]                                         printf [-v var] format [arguments]\n",
            " builtin [shell-builtin [arg ...]]                 pushd [-n] [+N | -N | dir]\n",
            " caller [expr]                                     pwd [-LP]\n",
            " case WORD in [PATTERN [| PATTERN]...) COMMANDS >  read [-ers] [-a array] [-d delim] [-i text] [->\n",
            " cd [-L|[-P [-e]] [-@]] [dir]                      readarray [-d delim] [-n count] [-O origin] [->\n",
            " command [-pVv] command [arg ...]                  readonly [-aAf] [name[=value] ...] or readonly>\n",
            " compgen [-abcdefgjksuv] [-o option] [-A action]>  return [n]\n",
            " complete [-abcdefgjksuv] [-pr] [-DEI] [-o optio>  select NAME [in WORDS ... ;] do COMMANDS; done\n",
            " compopt [-o|+o option] [-DEI] [name ...]          set [-abefhkmnptuvxBCHP] [-o option-name] [--]>\n",
            " continue [n]                                      shift [n]\n",
            " coproc [NAME] command [redirections]              shopt [-pqsu] [-o] [optname ...]\n",
            " declare [-aAfFgiIlnrtux] [-p] [name[=value] ...>  source filename [arguments]\n",
            " dirs [-clpv] [+N] [-N]                            suspend [-f]\n",
            " disown [-h] [-ar] [jobspec ... | pid ...]         test [expr]\n",
            " echo [-neE] [arg ...]                             time [-p] pipeline\n",
            " enable [-a] [-dnps] [-f filename] [name ...]      times\n",
            " eval [arg ...]                                    trap [-lp] [[arg] signal_spec ...]\n",
            " exec [-cl] [-a name] [command [argument ...]] [>  true\n",
            " exit [n]                                          type [-afptP] name [name ...]\n",
            " export [-fn] [name[=value] ...] or export -p      typeset [-aAfFgiIlnrtux] [-p] name[=value] ...\n",
            " false                                             ulimit [-SHabcdefiklmnpqrstuvxPT] [limit]\n",
            " fc [-e ename] [-lnr] [first] [last] or fc -s [p>  umask [-p] [-S] [mode]\n",
            " fg [job_spec]                                     unalias [-a] name [name ...]\n",
            " for NAME [in WORDS ... ] ; do COMMANDS; done      unset [-f] [-v] [-n] [name ...]\n",
            " for (( exp1; exp2; exp3 )); do COMMANDS; done     until COMMANDS; do COMMANDS; done\n",
            " function name { COMMANDS ; } or name () { COMMA>  variables - Names and meanings of some shell v>\n",
            " getopts optstring name [arg ...]                  wait [-fn] [-p var] [id ...]\n",
            " hash [-lr] [-p pathname] [-dt] [name ...]         while COMMANDS; do COMMANDS; done\n",
            " help [-dms] [pattern ...]                         { COMMANDS ; }\n",
            "GNU bash, version 5.1.16(1)-release (x86_64-pc-linux-gnu)\n",
            "These shell commands are defined internally.  Type `help' to see this list.\n",
            "Type `help name' to find out more about the function `name'.\n",
            "Use `info bash' to find out more about the shell in general.\n",
            "Use `man -k' or `info' to find out more about commands not in this list.\n",
            "\n",
            "A star (*) next to a name means that the command is disabled.\n",
            "\n",
            " job_spec [&]                                      history [-c] [-d offset] [n] or history -anrw >\n",
            " (( expression ))                                  if COMMANDS; then COMMANDS; [ elif COMMANDS; t>\n",
            " . filename [arguments]                            jobs [-lnprs] [jobspec ...] or jobs -x command>\n",
            " :                                                 kill [-s sigspec | -n signum | -sigspec] pid |>\n",
            " [ arg... ]                                        let arg [arg ...]\n",
            " [[ expression ]]                                  local [option] name[=value] ...\n",
            " alias [-p] [name[=value] ... ]                    logout [n]\n",
            " bg [job_spec ...]                                 mapfile [-d delim] [-n count] [-O origin] [-s >\n",
            " bind [-lpsvPSVX] [-m keymap] [-f filename] [-q >  popd [-n] [+N | -N]\n",
            " break [n]                                         printf [-v var] format [arguments]\n",
            " builtin [shell-builtin [arg ...]]                 pushd [-n] [+N | -N | dir]\n",
            " caller [expr]                                     pwd [-LP]\n",
            " case WORD in [PATTERN [| PATTERN]...) COMMANDS >  read [-ers] [-a array] [-d delim] [-i text] [->\n",
            " cd [-L|[-P [-e]] [-@]] [dir]                      readarray [-d delim] [-n count] [-O origin] [->\n",
            " command [-pVv] command [arg ...]                  readonly [-aAf] [name[=value] ...] or readonly>\n",
            " compgen [-abcdefgjksuv] [-o option] [-A action]>  return [n]\n",
            " complete [-abcdefgjksuv] [-pr] [-DEI] [-o optio>  select NAME [in WORDS ... ;] do COMMANDS; done\n",
            " compopt [-o|+o option] [-DEI] [name ...]          set [-abefhkmnptuvxBCHP] [-o option-name] [--]>\n",
            " continue [n]                                      shift [n]\n",
            " coproc [NAME] command [redirections]              shopt [-pqsu] [-o] [optname ...]\n",
            " declare [-aAfFgiIlnrtux] [-p] [name[=value] ...>  source filename [arguments]\n",
            " dirs [-clpv] [+N] [-N]                            suspend [-f]\n",
            " disown [-h] [-ar] [jobspec ... | pid ...]         test [expr]\n",
            " echo [-neE] [arg ...]                             time [-p] pipeline\n",
            " enable [-a] [-dnps] [-f filename] [name ...]      times\n",
            " eval [arg ...]                                    trap [-lp] [[arg] signal_spec ...]\n",
            " exec [-cl] [-a name] [command [argument ...]] [>  true\n",
            " exit [n]                                          type [-afptP] name [name ...]\n",
            " export [-fn] [name[=value] ...] or export -p      typeset [-aAfFgiIlnrtux] [-p] name[=value] ...\n",
            " false                                             ulimit [-SHabcdefiklmnpqrstuvxPT] [limit]\n",
            " fc [-e ename] [-lnr] [first] [last] or fc -s [p>  umask [-p] [-S] [mode]\n",
            " fg [job_spec]                                     unalias [-a] name [name ...]\n",
            " for NAME [in WORDS ... ] ; do COMMANDS; done      unset [-f] [-v] [-n] [name ...]\n",
            " for (( exp1; exp2; exp3 )); do COMMANDS; done     until COMMANDS; do COMMANDS; done\n",
            " function name { COMMANDS ; } or name () { COMMA>  variables - Names and meanings of some shell v>\n",
            " getopts optstring name [arg ...]                  wait [-fn] [-p var] [id ...]\n",
            " hash [-lr] [-p pathname] [-dt] [name ...]         while COMMANDS; do COMMANDS; done\n",
            " help [-dms] [pattern ...]                         { COMMANDS ; }\n"
          ]
        }
      ],
      "source": [
        "! help\n",
        "!help\n"
      ]
    },
    {
      "cell_type": "code",
      "source": [
        "!ls -al"
      ],
      "metadata": {
        "colab": {
          "base_uri": "https://localhost:8080/"
        },
        "id": "5oSahM9QSGlB",
        "outputId": "d7dc8982-8eb9-4a7e-f6e4-85e2e0e81aec"
      },
      "execution_count": 3,
      "outputs": [
        {
          "output_type": "stream",
          "name": "stdout",
          "text": [
            "total 16\n",
            "drwxr-xr-x 1 root root 4096 Dec  4 14:27 .\n",
            "drwxr-xr-x 1 root root 4096 Dec  8 02:35 ..\n",
            "drwxr-xr-x 4 root root 4096 Dec  4 14:23 .config\n",
            "drwxr-xr-x 1 root root 4096 Dec  4 14:27 sample_data\n"
          ]
        }
      ]
    },
    {
      "cell_type": "code",
      "source": [
        "!pip show tensorflow"
      ],
      "metadata": {
        "colab": {
          "base_uri": "https://localhost:8080/"
        },
        "id": "jYKODDRFSQJ4",
        "outputId": "f8f70777-7e4e-464b-a68b-9c4520a8b86c"
      },
      "execution_count": 4,
      "outputs": [
        {
          "output_type": "stream",
          "name": "stdout",
          "text": [
            "Name: tensorflow\n",
            "Version: 2.14.0\n",
            "Summary: TensorFlow is an open source machine learning framework for everyone.\n",
            "Home-page: https://www.tensorflow.org/\n",
            "Author: Google Inc.\n",
            "Author-email: packages@tensorflow.org\n",
            "License: Apache 2.0\n",
            "Location: /usr/local/lib/python3.10/dist-packages\n",
            "Requires: absl-py, astunparse, flatbuffers, gast, google-pasta, grpcio, h5py, keras, libclang, ml-dtypes, numpy, opt-einsum, packaging, protobuf, setuptools, six, tensorboard, tensorflow-estimator, tensorflow-io-gcs-filesystem, termcolor, typing-extensions, wrapt\n",
            "Required-by: dopamine-rl\n"
          ]
        }
      ]
    },
    {
      "cell_type": "code",
      "source": [
        "from google.colab import drive\n",
        "drive.mount('/gdrive', force_remount=True)"
      ],
      "metadata": {
        "colab": {
          "base_uri": "https://localhost:8080/"
        },
        "id": "ayxc8Z-NSZSy",
        "outputId": "b0a95088-bf56-44b7-e0ea-0f3d633a000f"
      },
      "execution_count": 5,
      "outputs": [
        {
          "output_type": "stream",
          "name": "stdout",
          "text": [
            "Mounted at /gdrive\n"
          ]
        }
      ]
    },
    {
      "cell_type": "code",
      "source": [
        "with open('/gdrive/My Drive/test.txt','w') as f:\n",
        "  f.writelines(\"Hello Google Colab!\")"
      ],
      "metadata": {
        "id": "no93tV_kS-_M"
      },
      "execution_count": 7,
      "outputs": []
    },
    {
      "cell_type": "code",
      "source": [],
      "metadata": {
        "id": "MKS9Y0c_TcN4"
      },
      "execution_count": null,
      "outputs": []
    }
  ]
}